{
  "nbformat": 4,
  "nbformat_minor": 0,
  "metadata": {
    "colab": {
      "provenance": []
    },
    "kernelspec": {
      "name": "python3",
      "display_name": "Python 3"
    },
    "language_info": {
      "name": "python"
    }
  },
  "cells": [
    {
      "cell_type": "code",
      "execution_count": null,
      "metadata": {
        "id": "ofRGvfRLk5w9"
      },
      "outputs": [],
      "source": [
        "!pip install tldextract"
      ]
    },
    {
      "cell_type": "code",
      "source": [],
      "metadata": {
        "id": "tOk7fqyv3XRs"
      },
      "execution_count": null,
      "outputs": []
    },
    {
      "cell_type": "code",
      "source": [
        "from collections import Counter\n",
        "import requests\n",
        "import time\n",
        "from urllib.parse import urlparse\n",
        "\n",
        "\n",
        "import pandas as pd\n",
        "import tldextract"
      ],
      "metadata": {
        "id": "oEgygpCKk-8u"
      },
      "execution_count": null,
      "outputs": []
    },
    {
      "cell_type": "code",
      "source": [
        "API_KEY = \"API_KEY\"\n",
        "SEARCH_ENGINE_ID = 'SEARCH_ENGINE_ID'\n",
        "query = 'dokdo.mofa.go.kr'\n",
        "idx = 1\n",
        "url = f\"https://www.googleapis.com/customsearch/v1?key={API_KEY}&cx={SEARCH_ENGINE_ID}&q={query}&start={idx}\"\n",
        "\n",
        "response = requests.get(url).json()"
      ],
      "metadata": {
        "id": "3nKO3QmLlH_F"
      },
      "execution_count": null,
      "outputs": []
    },
    {
      "cell_type": "code",
      "source": [
        "#respone 어떤 키를 가지고 있는 지 확인\n",
        "response.keys()"
      ],
      "metadata": {
        "id": "XRTDZfNrlT4y"
      },
      "execution_count": null,
      "outputs": []
    },
    {
      "cell_type": "code",
      "source": [
        "# item 확인\n",
        "for key in response['items'][1].keys():\n",
        "    print(key, \":\", response['items'][1][key])\n",
        "    print(\"----\" * 20)"
      ],
      "metadata": {
        "id": "9nYRedoKldjB"
      },
      "execution_count": null,
      "outputs": []
    },
    {
      "cell_type": "code",
      "source": [
        "def response_google_cse(API_KEY, SEARCH_ENGINE_ID, query):\n",
        "    idx = 1\n",
        "    res = []\n",
        "    url = f\"https://www.googleapis.com/customsearch/v1?key={API_KEY}&cx={SEARCH_ENGINE_ID}&q={query}&start={idx}\"\n",
        "\n",
        "    while (True):\n",
        "        response = requests.get(url).json()\n",
        "\n",
        "        if ('items' not in response.keys()):\n",
        "            print(\"Error: Items not in response\")\n",
        "            break;\n",
        "\n",
        "        len_items = len(response['items'])\n",
        "        idx += len_items\n",
        "\n",
        "        for i in range(len_items):\n",
        "            res.append(response['items'][i]['link'])\n",
        "        print(\"idx : {}\".format(idx))\n",
        "\n",
        "        if (len_items == 0):\n",
        "            print(\"Error: Returned 0\")\n",
        "            break;\n",
        "\n",
        "        time.sleep(.5)\n",
        "\n",
        "        if (idx >  30):\n",
        "            print(\"Error: Returned 0\")\n",
        "            break;\n",
        "    print(\"Finished: {} links are collected\".format(len(res)))\n",
        "    return (res)"
      ],
      "metadata": {
        "id": "1QEdCkTTldfJ"
      },
      "execution_count": null,
      "outputs": []
    },
    {
      "cell_type": "code",
      "source": [
        "def get_tld(urls):\n",
        "    tlds = []\n",
        "    for url in urls:\n",
        "        tld = tldextract.extract(url).suffix\n",
        "        if (len(tld.split('.')) > 1):\n",
        "            tlds.append(tld.split('.')[-1])\n",
        "        else:\n",
        "            tlds.append(tld)\n",
        "    return tlds\n",
        "\n",
        "def get_domains(urls):\n",
        "    domains = []\n",
        "    for url in urls:\n",
        "        d = \"{}.{}\".format(tldextract.extract(url).domain, tldextract.extract(url).suffix)\n",
        "        domains.append(d)\n",
        "    return domains"
      ],
      "metadata": {
        "id": "c_j1kJVT8mL2"
      },
      "execution_count": null,
      "outputs": []
    },
    {
      "cell_type": "code",
      "source": [
        "korea_stlds = [tldextract.extract(url).suffix for url in korea]\n",
        "korea_tlds = get_tld(korea)\n",
        "korea_domains = get_domains(korea)"
      ],
      "metadata": {
        "id": "CiRmcXwK8oj8"
      },
      "execution_count": null,
      "outputs": []
    },
    {
      "cell_type": "code",
      "source": [
        "koreas_stlds_count = pd.DataFrame({\"tld\" : dict(Counter(korea_stlds)).keys(),\n",
        "                                   \"value\": dict(Counter(korea_stlds)).values()})\n",
        "koreas_tlds_count = pd.DataFrame({\"tld\" : dict(Counter(korea_tlds)).keys(),\n",
        "                                   \"value\": dict(Counter(korea_tlds)).values()})\n",
        "koreas_domains_count = pd.DataFrame({\"tld\" : dict(Counter(korea_domains)).keys(),\n",
        "                                   \"value\": dict(Counter(korea_domains)).values()})"
      ],
      "metadata": {
        "id": "nl76NYPC8qiO"
      },
      "execution_count": null,
      "outputs": []
    },
    {
      "cell_type": "code",
      "source": [
        "FILE_PATH = \"FILE_PATH\"\n",
        "koreas_stlds_count.to_csv(os.path.join(FILE_PATH, \"korea_stlds.csv\"))"
      ],
      "metadata": {
        "id": "ajfz8MsF8rXE"
      },
      "execution_count": null,
      "outputs": []
    }
  ]
}